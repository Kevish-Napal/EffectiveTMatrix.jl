{
 "cells": [
  {
   "cell_type": "markdown",
   "id": "6d2d1c2f",
   "metadata": {},
   "source": [
    "## Introduction: the acoustic  particulate cylinder\n",
    "\n",
    "The propagation of waves in free space is governed by the 2D Helmholtz equation. We denote by $\\mathrm V_n$ and $\\mathrm U_n$ the cylindrical Bessel functions\n",
    "\n",
    "$$\n",
    "\\tag{1}\n",
    " \\mathrm V_n(k\\mathbf r):=\\mathrm J_n(kr)\\mathrm e^{\\mathrm in\\theta} \n",
    "\\quad\\text{and}\\quad\n",
    "\\mathrm U_n(k \\mathbf r):= \\mathrm H_n(k r)\\mathrm e^{\\mathrm in\\theta}\n",
    "$$\n",
    "\n",
    "where $k$ is the background wavenumber and  $(r,\\theta)$ are the polar coordinates of $\\mathbf r$, ie $\\mathbf r = (r\\cos \\theta,r\\sin\\theta)$, $\\mathrm J_n$ and $\\mathrm H_n$ are respectively the Bessel function of order zero and the Hankel function. \n",
    "\n",
    "We consider the scattering from a set of $J$ cylinders, referred to as particles, confined in a circular area of radius $R$. The  incident field $u_i$ can be decomposed in modes:\n",
    "\n",
    "$$\n",
    "\\tag{2}\n",
    "u_i(\\mathbf r) =  \\sum_{n=-\\infty}^{+\\infty}g_n\\mathrm V_n(k\\mathbf r),\\quad g_n\\in\\mathbb{C}.\n",
    "$$\n",
    "\n",
    "Then the averaged scattered field $\\langle u_s\\rangle$ (over all possible configurations of the $J$ particles confined in the disc of radius $R$) can be written\n",
    "\n",
    "$$\n",
    "\\tag{3}\n",
    "\\langle u_s\\rangle(\\mathbf r) =  \\sum_{n=-\\infty}^{+\\infty} \\langle \\mathfrak F_n \\rangle\\mathrm H_n(k\\mathbf r), \\quad  \\langle \\mathfrak F_n \\rangle = \\mathrm T_ng_n\n",
    "$$\n",
    "\n",
    "where $\\mathrm T_n\\in\\mathbb{C}$ is related to the effective T-matrix $\\mathrm T_{n,m}$ of the effective cylinder of radius $R$. More precisely,\n",
    "\n",
    "$$\n",
    "\\tag{4}\n",
    "\\mathrm T_{n,m} := \\delta_{n,m} \\mathrm T_n.\n",
    "$$\n",
    "\n",
    "With this definition, the scattering from the effective cylinder of radius $R$ can be summerized in matrix form \n",
    "\n",
    "$$\n",
    "\\tag{5}\n",
    " \\langle \\mathbf{F} \\rangle = \\mathbf T \\mathbf g\n",
    "$$\n",
    "\n",
    "where we defined the vectors $\\langle \\mathbf{F} \\rangle=( \\langle \\mathfrak F_n \\rangle)_n$ and $\\mathbf g = (g_n)_n$."
   ]
  },
  {
   "cell_type": "markdown",
   "id": "a17c1e1d",
   "metadata": {},
   "source": [
    "## Example 3: The mode to mode scattering\n",
    "\n",
    "\n",
    "The goal of this section is to clarify how the function run_MC_validation! presented in the previous Example 2. computes the coefficients $\\mathrm T_n$ of the effective T-matrix.\n",
    "\n",
    "### 3.1) Radial scattering\n",
    "\n",
    "#### 3.1.a) Radial source\n",
    "\n",
    "For a 2D setting, a modal source is of the form \n",
    "\n",
    "$$\n",
    "\\tag{6}\n",
    "u_i(\\mathbf{r}) = \\mathrm V_n(\\mathbf{kr})\n",
    "$$\n",
    "\n",
    "where $\\mathrm V_n(\\mathbf{kr})$ is defined by (Eq. 1). We first show an example with a radial source which is a specific modal source with $n=0$"
   ]
  },
  {
   "cell_type": "code",
   "execution_count": null,
   "id": "fcb3133b",
   "metadata": {
    "vscode": {
     "languageId": "plaintext"
    }
   },
   "outputs": [],
   "source": [
    "using EffectiveTMatrix\n",
    "using Plots\n",
    "\n",
    "dimension=2;                                       \n",
    "host_medium = Acoustic(dimension; ρ=1.0, c=1.0);   # 2D acoustic problem\n",
    "input_mode = 0;                                          # mode n=0 \n",
    "source = mode_source(host_medium,input_mode); # V_0"
   ]
  },
  {
   "cell_type": "markdown",
   "id": "869ed957",
   "metadata": {
    "vscode": {
     "languageId": "plaintext"
    }
   },
   "source": [
    "To plot the source field, we need to set a frequency $\\omega$, define a box where to plot the field and choose a resolution"
   ]
  },
  {
   "cell_type": "code",
   "execution_count": null,
   "id": "9e6c139f",
   "metadata": {
    "vscode": {
     "languageId": "plaintext"
    }
   },
   "outputs": [],
   "source": [
    "ω=0.1;                                    # frequency\n",
    "M=N=20;  \n",
    "resolution = 100                                 # sizes of the rectangle where to plot\n",
    "bottomleft = [-M;-N]; topright = [M;N];\n",
    "region = Box([bottomleft, topright]);\n",
    "plot(source,ω;bounds=region,res=resolution)"
   ]
  },
  {
   "cell_type": "markdown",
   "id": "bde536cb",
   "metadata": {
    "vscode": {
     "languageId": "plaintext"
    }
   },
   "source": [
    "<p align=\"center\">\n",
    "    <img\n",
    "    src=\"source_mode_0.png\"\n",
    "    alt=\"Alt text\"\n",
    "    title=\"\"\n",
    "    style=\"display: inline-block; margin: 0 auto; max-width: 200px\">\n",
    "</p>"
   ]
  },
  {
   "cell_type": "markdown",
   "id": "53e1c99b",
   "metadata": {
    "vscode": {
     "languageId": "plaintext"
    }
   },
   "source": [
    "#### 3.1.b) Scattering from one configuration of particles\n",
    "\n",
    "We first need to define the parameters for particles configurations:\n"
   ]
  },
  {
   "cell_type": "code",
   "execution_count": null,
   "id": "7a536bb1",
   "metadata": {
    "vscode": {
     "languageId": "plaintext"
    }
   },
   "outputs": [],
   "source": [
    "# parameters for particles configurations\n",
    "radius_big_cylinder = 20.0;                                 # radius of cylinder where particles are confined \n",
    "particle = Particle(Acoustic(2; ρ=Inf, c=Inf),Circle(1.0)); # particles type: sound hard particles of radius 1\n",
    "sp_MC = Specie(particle; volume_fraction = .05);            # # volume fraction is the density of particles"
   ]
  },
  {
   "cell_type": "markdown",
   "id": "5580a2ea",
   "metadata": {
    "vscode": {
     "languageId": "plaintext"
    }
   },
   "source": [
    "sp_MC then contains the statistics of the particles configuration, a specific configuration of particles is drawn with the function renew_particle_configurations as follows:"
   ]
  },
  {
   "cell_type": "code",
   "execution_count": null,
   "id": "9d0cf99c",
   "metadata": {
    "vscode": {
     "languageId": "plaintext"
    }
   },
   "outputs": [],
   "source": [
    "particles_realisation = renew_particle_configurations(sp_MC,radius_big_cylinder);\n",
    "plot(particles_realisation)"
   ]
  },
  {
   "cell_type": "markdown",
   "id": "1f6e3347",
   "metadata": {
    "vscode": {
     "languageId": "plaintext"
    }
   },
   "source": [
    "<p align=\"center\">\n",
    "    <img\n",
    "    src=\"particles_configuration.png\"\n",
    "    alt=\"Alt text\"\n",
    "    title=\"Particles configuration\"\n",
    "    style=\"display: inline-block; margin: 0 auto; max-width: 200px\">\n",
    "</p>"
   ]
  },
  {
   "cell_type": "markdown",
   "id": "8763c330",
   "metadata": {
    "vscode": {
     "languageId": "plaintext"
    }
   },
   "source": [
    "We can now compute the scattered field"
   ]
  },
  {
   "cell_type": "code",
   "execution_count": null,
   "id": "49600157",
   "metadata": {
    "vscode": {
     "languageId": "plaintext"
    }
   },
   "outputs": [],
   "source": [
    "basis_order=5;\n",
    "sim = FrequencySimulation(particles_realisation,source);\n",
    "scattered_field = run(sim,region,[ω];only_scattered_waves=true,basis_order=basis_order,res=resolution);\n",
    "\n",
    "plot(scattered_field,ω; field_apply=real,seriestype = :contour,c=:balance) "
   ]
  },
  {
   "cell_type": "markdown",
   "id": "749fb7a2",
   "metadata": {
    "vscode": {
     "languageId": "plaintext"
    }
   },
   "source": [
    "<p align=\"center\">\n",
    "    <img\n",
    "    src=\"scattering_mode_0.png\"\n",
    "    alt=\"Alt text\"\n",
    "    title=\"\"\n",
    "    style=\"display: inline-block; margin: 0 auto; max-width: 200px\">\n",
    "</p>"
   ]
  },
  {
   "cell_type": "markdown",
   "id": "67eb8bad",
   "metadata": {
    "vscode": {
     "languageId": "plaintext"
    }
   },
   "source": [
    "The scattered field $u_s$ can be decomposed in modes $\\mathrm U_n$ defined by (Eq. 1):\n",
    "\n",
    "$$\n",
    "\\tag{7}\n",
    "u _ s(\\mathbf{r}) =  \\sum _ {n=-\\infty}^{+\\infty} \\mathfrak{F} _ n\\mathrm U _ n(k\\mathbf{r}), \\qquad \\text{where}\\quad \\mathfrak{F} _ n := \\sum _ {n=-\\infty}^{+\\infty} \\sum _ {j=1}^J \\mathrm{V} _ {n'-n}(-k\\mathbf{r} _ i )f_{n'}^i\n",
    "$$\n",
    "\n",
    "The coefficients $\\mathfrak F_n$ depend on the particles configuration, which centers are given by $\\mathbf r_1,\\dots,\\mathbf r_J$. In the above, the coefficients $f_{n}^i$ are obtained after solving the Foldy-Lax equations. The coefficients $\\mathfrak F_n$ for $n\\in [0,N]$, N = basis_field_order, are computed as follows:"
   ]
  },
  {
   "cell_type": "code",
   "execution_count": null,
   "id": "ca113376",
   "metadata": {
    "vscode": {
     "languageId": "plaintext"
    }
   },
   "outputs": [],
   "source": [
    "basis_field_order = 4;                                    # number of modes to compute\n",
    "F = mode_analysis(input_mode, ω, host_medium, sp_MC;\n",
    "                radius_big_cylinder=radius_big_cylinder, \n",
    "                basis_order=basis_order, \n",
    "                basis_field_order=basis_field_order,\n",
    "                nb_iterations=1);\n",
    "\n",
    "abs_F = [abs(f[1]) for f in F]\n",
    "scatter(0:basis_field_order,abs_F,label=false,markerstrokewidth=.5,markersize=7,markershape=:dtriangle)"
   ]
  },
  {
   "cell_type": "markdown",
   "id": "b16949c8",
   "metadata": {
    "vscode": {
     "languageId": "plaintext"
    }
   },
   "source": [
    "<p align=\"center\">\n",
    "    <img\n",
    "    src=\"deterministic_modal_decomposition_mode_0.png\"\n",
    "    alt=\"Alt text\"\n",
    "    title=\"\"\n",
    "    style=\"display: inline-block; margin: 0 auto; max-width: 200px\">\n",
    "</p>\n",
    "\n",
    "#### 3.1.c) Average scattered field over particles configurations\n",
    "\n",
    "The previous steps can be repeated in order to compute the averaged scattered field over several particles configurations, denoted $\\langle u_s \\rangle(\\mathbf{r})$. \n",
    "\n",
    "$$\n",
    "\\tag{8}\n",
    "\\langle u_s \\rangle(\\mathbf{r}) =  \\sum_{n=-\\infty}^{+\\infty} \\langle \\mathfrak{F}_n\\rangle \\mathrm U_n(k\\mathbf{r})\n",
    "$$\n",
    "\n",
    "The averaged scattered field is computed as follows:"
   ]
  },
  {
   "cell_type": "code",
   "execution_count": null,
   "id": "843a090c",
   "metadata": {
    "vscode": {
     "languageId": "plaintext"
    }
   },
   "outputs": [],
   "source": [
    "using Statistics\n",
    "x_vec, _ = points_in_shape(region;resolution=100);                            # space discretization \n",
    "nb_of_configurations = 200;                                                   # total number of config \n",
    "A = complex(zeros(length(x_vec),nb_of_configurations));                       # store the fields of each config\n",
    "\n",
    "for i=1:nb_of_configurations\n",
    "    particles = renew_particle_configurations(sp_MC,radius_big_cylinder);     # renew config\n",
    "    sim = FrequencySimulation(particles,source);\n",
    "    us = run(sim,x_vec,[ω];only_scattered_waves=true,basis_order=basis_order) # solve for #specific config\n",
    "    A[:,i] = mean.(us.field[:,1]) \n",
    "end \n",
    "mean_A  = mean(A,dims=2);\n",
    "mean_us = FrequencySimulationResult(mean_A,x_vec,[ω]);\n",
    "\n",
    "# plot average scattered field\n",
    "plot(mean_us,ω; field_apply=real,seriestype = :contour,c=:balance) "
   ]
  },
  {
   "cell_type": "markdown",
   "id": "ab8fdf76",
   "metadata": {
    "vscode": {
     "languageId": "plaintext"
    }
   },
   "source": [
    "<p align=\"center\">\n",
    "    <img\n",
    "    src=\"mean_us_mode_0.png\"\n",
    "    alt=\"Alt text\"\n",
    "    title=\"\"\n",
    "    style=\"display: inline-block; margin: 0 auto; max-width: 200px\">\n",
    "</p>\n",
    "\n",
    "\n",
    "The empirical average of $\\langle \\mathfrak{F}_n\\rangle$ obtained with 200 configurations is computed by specifying nb_iterations=200 in the function mode_analysis:"
   ]
  },
  {
   "cell_type": "code",
   "execution_count": null,
   "id": "b5716a9e",
   "metadata": {
    "vscode": {
     "languageId": "plaintext"
    }
   },
   "outputs": [],
   "source": [
    "F = mode_analysis(input_mode, ω, host_medium, sp_MC;\n",
    "                radius_big_cylinder=radius_big_cylinder, \n",
    "                basis_order=basis_order, \n",
    "                basis_field_order=basis_field_order,\n",
    "                nb_iterations=nb_of_configurations);\n",
    "\n",
    "F_average = mean.(F)\n",
    "scatter(0:basis_field_order,abs.(F_average),label=false,markerstrokewidth=.5,markersize=7,markershape=:dtriangle)\n",
    "scatter!(xlabel=\"n\",ylabel=L\"$\\langle\\mathfrak{F}_n\\rangle$\")\n",
    "scatter!(title=\"modes for one $(nb_of_configurations) realisations\")"
   ]
  },
  {
   "cell_type": "markdown",
   "id": "9788310a",
   "metadata": {
    "vscode": {
     "languageId": "plaintext"
    }
   },
   "source": [
    "<p align=\"center\">\n",
    "    <img\n",
    "    src=\"average_modal_decomposition_mode_0.png\"\n",
    "    alt=\"Alt text\"\n",
    "    title=\"\"\n",
    "    style=\"display: inline-block; margin: 0 auto; max-width: 200px\">\n",
    "</p>\n",
    "\n",
    "We can see from this previous plot that the empirical average $\\langle\\mathfrak F_n\\rangle\\approx 0 $ if $n\\neq0$ and this is an expected result for a source of the form (6): the resulting scattered field is also radial:\n",
    "\n",
    "$$\n",
    "\\tag{9}\n",
    "u_i(\\mathbf r) = \\mathrm V_0(k\\mathbf r)\n",
    "\\implies\n",
    "\\langle u_s\\rangle(\\mathbf r) = \\langle\\mathfrak F_0\\rangle\\mathrm U_0(k\\mathbf r)\n",
    "$$\n",
    "\n",
    "#### 3.1.d) Computation of $\\mathrm T_0$\n",
    "\n",
    "The radial source (6) corresponds to the choice $g_n=\\delta_{n,0}$ in (2). From (3), we see that $\\langle u_s\\rangle(\\mathbf r)$ then coincide with (9), furthermore we have that $\\mathrm T_0 = \\langle\\mathfrak F_0\\rangle$. The computation of this quantity doesn't require to compute the whole scattered field $u_s(\\mathbf r)$ but only the coefficient $\\mathfrak F_0$ provided by (7) with $n=0$. $\\langle\\mathfrak F_0\\rangle$ is then computed by averaging several realisations of $\\mathfrak F_0$ over particle configurations.\n",
    "\n",
    "### 3.2) Modal scattering\n",
    "\n",
    "The result (9) is valid for other modal sources: for any $n$,\n",
    "\n",
    "$$\n",
    "\\tag{10}\n",
    "u_i(\\mathbf r) = \\mathrm V_n(k\\mathbf r)\n",
    "\\implies\n",
    "\\langle u_s\\rangle(\\mathbf r) = \\langle\\mathfrak F_n\\rangle\\mathrm U_n(k\\mathbf r)\n",
    "$$\n",
    "\n",
    "The radial case corresponded to the case $n=0$, we illustrate this result again with the choice $n=3$ (change imput_mode $= 3$ instead of $0$ in the above). We obtain the following results:\n",
    "\n",
    "\n",
    "<p align=\"center\">\n",
    "  <img src=\"source_mode_3.png\" width=\"400\" />\n",
    "</p>\n",
    "\n",
    "\n",
    "\n",
    "\n",
    "<p align=\"center\">\n",
    "  <img src=\"scattering_mode_3.png\" width=\"400\" />\n",
    "  <img src=\"mean_us_mode_3.png\" width=\"400\" /> \n",
    "</p>\n",
    "\n",
    "<p align=\"center\">\n",
    "  <img src=\"deterministic_modal_decomposition_mode_3.png\" width=\"400\" />\n",
    "  <img src=\"average_modal_decomposition_mode_3.png\" width=\"400\" /> \n",
    "</p>\n",
    "\n",
    "The coefficient $\\langle\\mathfrak F_n\\rangle$ appearing in (10) corresponds to  $\\mathrm T_n$. This quantity is computed with (7) and averaged other particles configurations. The function run_MC_validation! uses this modal scattering property to compute the coefficients of the effective T-matrix."
   ]
  }
 ],
 "metadata": {
  "language_info": {
   "name": "python"
  }
 },
 "nbformat": 4,
 "nbformat_minor": 5
}
