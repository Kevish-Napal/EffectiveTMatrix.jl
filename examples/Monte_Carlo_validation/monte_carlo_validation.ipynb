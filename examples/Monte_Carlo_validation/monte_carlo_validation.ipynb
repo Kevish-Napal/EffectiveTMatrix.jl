{
 "cells": [
  {
   "cell_type": "markdown",
   "id": "40891de7",
   "metadata": {},
   "source": [
    "## Introduction: the acoustic  particulate cylinder\n",
    "\n",
    "The propagation of waves in free space is governed by the 2D Helmholtz equation. We denote by $\\mathrm V_n$ and $\\mathrm U_n$ the cylindrical Bessel functions\n",
    "\n",
    "$$\n",
    "\\tag{1}\n",
    " \\mathrm V_n(k\\mathbf r):=\\mathrm J_n(kr)\\mathrm e^{\\mathrm in\\theta} \n",
    "\\quad\\text{and}\\quad\n",
    "\\mathrm U_n(k \\mathbf r):= \\mathrm H_n(k r)\\mathrm e^{\\mathrm in\\theta}\n",
    "$$\n",
    "\n",
    "where $k$ is the background wavenumber and  $(r,\\theta)$ are the polar coordinates of $\\mathbf r$, ie $\\mathbf r = (r\\cos \\theta,r\\sin\\theta)$, $\\mathrm J_n$ and $\\mathrm H_n$ are respectively the Bessel function of order zero and the Hankel function. \n",
    "\n",
    "We consider the scattering from a set of $J$ cylinders, referred to as particles, confined in a circular area of radius $R$. The  incident field $u_i$ can be decomposed in modes:\n",
    "\n",
    "$$\n",
    "\\tag{2}\n",
    "u_i(\\mathbf r) =  \\sum_{n=-\\infty}^{+\\infty}g_n\\mathrm V_n(k\\mathbf r),\\quad g_n\\in\\mathbb{C}.\n",
    "$$\n",
    "\n",
    "Then the averaged scattered field $\\langle u_s\\rangle$ (over all possible configurations of the $J$ particles confined in the disc of radius $R$) can be written\n",
    "\n",
    "$$\n",
    "\\tag{3}\n",
    "\\langle u_s\\rangle(\\mathbf r) =  \\sum_{n=-\\infty}^{+\\infty} \\langle \\mathfrak F_n \\rangle\\mathrm H_n(k\\mathbf r), \\quad  \\langle \\mathfrak F_n \\rangle = \\mathrm T_ng_n\n",
    "$$\n",
    "\n",
    "where $\\mathrm T_n\\in\\mathbb{C}$ is related to the effective T-matrix $\\mathrm T_{n,m}$ of the effective cylinder of radius $R$. More precisely,\n",
    "\n",
    "$$\n",
    "\\tag{4}\n",
    "\\mathrm T_{n,m} := \\delta_{n,m} \\mathrm T_n.\n",
    "$$\n",
    "\n",
    "With this definition, the scattering from the effective cylinder of radius $R$ can be summerized in matrix form \n",
    "\n",
    "$$\n",
    "\\tag{5}\n",
    " \\langle \\mathbf{F} \\rangle = \\mathbf T \\mathbf g\n",
    "$$\n",
    "\n",
    "where we defined the vectors $\\langle \\mathbf{F} \\rangle=( \\langle \\mathfrak F_n \\rangle)_n$ and $\\mathbf g = (g_n)_n$."
   ]
  },
  {
   "cell_type": "markdown",
   "id": "02b1098f",
   "metadata": {},
   "source": [
    "## Example 2: Monte Carlo validation of the coefficients $\\mathrm T_n$ \n",
    "\n",
    "\n",
    "In the previous example, we showed how to use the function *t_matrix* to compute the effective T-matrix of the cylinder. The latter relied on the Effective Waves Method which is fast and do not need to compute any average. This package also implements Monte Carlo simulations which allows to validate these results.  \n",
    "\n",
    "Standard Monte Carlo simulations consists in solving the scattering problem several times, compute the empirical average of the scattered field and then compare the results with the predicted effective properties of the homogenized material. In this section is shown how to run the Monte Carlo simulations. In the next section will be shown in details how the effective T-matrix is sampled and how we make use of the spherical geometry to accelerate the Monte Carlo simulations.\n",
    "\n",
    "#### Fixed set of parameters\n",
    "\n",
    "First define the host medium "
   ]
  },
  {
   "cell_type": "code",
   "execution_count": null,
   "id": "013e7db3",
   "metadata": {
    "vscode": {
     "languageId": "plaintext"
    }
   },
   "outputs": [],
   "source": [
    "using EffectiveTMatrix\n",
    "\n",
    "## define host_medium\n",
    "dimension=2;\n",
    "host_medium = Acoustic(dimension; ρ=1.0, c=1.0);"
   ]
  },
  {
   "cell_type": "markdown",
   "id": "9f250474",
   "metadata": {},
   "source": [
    "Then define properties of the effective cylinder:"
   ]
  },
  {
   "cell_type": "code",
   "execution_count": null,
   "id": "40a188c9",
   "metadata": {
    "vscode": {
     "languageId": "plaintext"
    }
   },
   "outputs": [],
   "source": [
    "## particulate microstructure of the effective cylinder\n",
    "particle = Particle(Acoustic(2; ρ=1e-2, c=1.0),Circle(1.0));   # sound soft particle of radius 1.0 \n",
    "sp_MC = Specie(particle; volume_fraction = .05) \n",
    "\n",
    "## radius of the effective cylinder\n",
    "cylinder_radius = 20.0;"
   ]
  },
  {
   "cell_type": "markdown",
   "id": "83f8cecb",
   "metadata": {
    "vscode": {
     "languageId": "plaintext"
    }
   },
   "source": [
    "Finally we set the frequency and some parameters required for the Monte Carlo simulations:"
   ]
  },
  {
   "cell_type": "code",
   "execution_count": null,
   "id": "9fea4900",
   "metadata": {
    "vscode": {
     "languageId": "plaintext"
    }
   },
   "outputs": [],
   "source": [
    "ω=.1                   # frequency\n",
    "basis_field_order = 4; # sample Tₙ for n ∈ [0;basis_field_order] \n",
    "\n",
    "## other Monte Carlo parameters\n",
    "kws_MC = Dict(\n",
    "    :basis_order => 5,                       # truncation of the Foldy-Lax equation\n",
    "    :nb_iterations_max => 6000,              # max number of iterations\n",
    "    :nb_iterations_step => 100,              # convergence criteria is checked at every steps\n",
    "    :prec => 5e-2                            # precision of the Monte Carlo simulation\n",
    ");"
   ]
  },
  {
   "cell_type": "markdown",
   "id": "aad0be71",
   "metadata": {
    "vscode": {
     "languageId": "plaintext"
    }
   },
   "source": [
    "The result is stored in an object of type MonteCarloResult that has to be initialise. The function run_MC_validation! runs the Monte Carlo simulation. The result can simply be plot using the function plot:"
   ]
  },
  {
   "cell_type": "code",
   "execution_count": null,
   "id": "4d1d350a",
   "metadata": {
    "vscode": {
     "languageId": "plaintext"
    }
   },
   "outputs": [],
   "source": [
    "MC = MonteCarloResult(ω,sp_MC,cylinder_radius; basis_field_order=basis_field_order); # initialisation\n",
    "sample_effective_t_matrix!(MC,host_medium; kws_MC...); # Monte Carlo simulations\n",
    "run_MC_validation!(host_medium, MC; kws_MC...);     # Effective Waves Method\n",
    "plot(MC)"
   ]
  },
  {
   "cell_type": "markdown",
   "id": "4de88d1a",
   "metadata": {},
   "source": [
    "<p align=\"center\">\n",
    "  <img src=\"MC_fixed_params.png\" width=\"500\" />\n",
    "</p>"
   ]
  },
  {
   "cell_type": "markdown",
   "id": "041b832b",
   "metadata": {
    "vscode": {
     "languageId": "plaintext"
    }
   },
   "source": [
    "The plot above shows $\\mathrm{Re}(\\mathrm T_n)$ for $n\\in[0,4]$ using three different methods: the Monte Carlo simulations (MC), the Effective Waves Method (EWM) and the Monopole Approximation of the Effective Waves Method (EFM-MA). The latter method is obtained when the particles are approximated with monopole scatterers and give good results in the case of quasi-monopole scatterers (cf. next paragraph).\n",
    "\n",
    "#### List of parameters\n",
    "\n",
    "Running Monte Carlo simulations on a list of parameters is very similar to the above, one only need to initialise a vector of MonteCarloResult objects instead. Here is an example of a multi frequencies simulation:"
   ]
  },
  {
   "cell_type": "code",
   "execution_count": null,
   "id": "42265926",
   "metadata": {
    "vscode": {
     "languageId": "plaintext"
    }
   },
   "outputs": [],
   "source": [
    "## MC loop on frequency\n",
    "Ω = collect(.1:.05:1.5);\n",
    "MC_vec = [MonteCarloResult(ω,sp_MC,cylinder_radius) for ω ∈ Ω];\n",
    "sample_effective_t_matrix!(MC_vec,host_medium; kws_MC...); # Monte Carlo simulations\n",
    "run_MC_validation!(host_medium, MC_vec; kws_MC...);     # Effective Waves Method\n",
    "\n",
    "# plot results\n",
    "plot(MC_vec)"
   ]
  },
  {
   "cell_type": "markdown",
   "id": "76eb1dc4",
   "metadata": {
    "vscode": {
     "languageId": "plaintext"
    }
   },
   "source": [
    "<p align=\"center\">\n",
    "  <img src=\"MC_multi_frq.png\" width=\"500\" />\n",
    "</p>\n",
    "\n",
    "The Monopole approximation method (EWM-MA) gives a good approximation in the low frequency regime because the sound soft particles are then quasi-monopole scatterers."
   ]
  }
 ],
 "metadata": {
  "language_info": {
   "name": "python"
  }
 },
 "nbformat": 4,
 "nbformat_minor": 5
}
