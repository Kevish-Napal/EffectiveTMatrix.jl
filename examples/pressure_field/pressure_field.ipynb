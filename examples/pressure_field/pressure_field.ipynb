{
 "cells": [
  {
   "cell_type": "markdown",
   "id": "3a15ab51",
   "metadata": {},
   "source": [
    "\n",
    "\n",
    "## Introduction: the acoustic  particulate cylinder\n",
    "\n",
    "The propagation of waves in free space is governed by the 2D Helmholtz equation. We denote by $\\mathrm V_n$ and $\\mathrm U_n$ the cylindrical Bessel functions\n",
    "\n",
    "$$\n",
    "\\tag{1}\n",
    " \\mathrm V_n(k\\mathbf r):=\\mathrm J_n(kr)\\mathrm e^{\\mathrm in\\theta} \n",
    "\\quad\\text{and}\\quad\n",
    "\\mathrm U_n(k \\mathbf r):= \\mathrm H_n(k r)\\mathrm e^{\\mathrm in\\theta}\n",
    "$$\n",
    "\n",
    "where $k$ is the background wavenumber and  $(r,\\theta)$ are the polar coordinates of $\\mathbf r$, ie $\\mathbf r = (r\\cos \\theta,r\\sin\\theta)$, $\\mathrm J_n$ and $\\mathrm H_n$ are respectively the Bessel function of order zero and the Hankel function. \n",
    "\n",
    "We consider the scattering from a set of $J$ cylinders, referred to as particles, confined in a circular area of radius $R$. The  incident field $u_i$ can be decomposed in modes:\n",
    "\n",
    "$$\n",
    "\\tag{2}\n",
    "u_i(\\mathbf r) =  \\sum_{n=-\\infty}^{+\\infty}g_n\\mathrm V_n(k\\mathbf r),\\quad g_n\\in\\mathbb{C}.\n",
    "$$\n",
    "\n",
    "Then the averaged scattered field $\\langle u_s\\rangle$ (over all possible configurations of the $J$ particles confined in the disc of radius $R$) can be written\n",
    "\n",
    "$$\n",
    "\\tag{3}\n",
    "\\langle u_s\\rangle(\\mathbf r) =  \\sum_{n=-\\infty}^{+\\infty} \\langle \\mathfrak F_n \\rangle\\mathrm H_n(k\\mathbf r), \\quad  \\langle \\mathfrak F_n \\rangle = \\mathrm T_ng_n\n",
    "$$\n",
    "\n",
    "where $\\mathrm T_n\\in\\mathbb{C}$ is related to the effective T-matrix $\\mathrm T_{n,m}$ of the effective cylinder of radius $R$. More precisely,\n",
    "\n",
    "$$\n",
    "\\tag{4}\n",
    "\\mathrm T_{n,m} := \\delta_{n,m} \\mathrm T_n.\n",
    "$$\n",
    "\n",
    "With this definition, the scattering from the effective cylinder of radius $R$ can be summerized in matrix form \n",
    "\n",
    "$$\n",
    "\\tag{5}\n",
    " \\langle \\mathbf{F} \\rangle = \\mathbf T \\mathbf g\n",
    "$$\n",
    "\n",
    "where we defined the vectors $\\langle \\mathbf{F} \\rangle=( \\langle \\mathfrak F_n \\rangle)_n$ and $\\mathbf g = (g_n)_n$."
   ]
  },
  {
   "cell_type": "markdown",
   "id": "e01e5dff",
   "metadata": {},
   "source": [
    "## Computation of the coefficients $\\mathrm T_n$ \n",
    "\n",
    "First set the dimension and physics of the problem by defining the host medium:"
   ]
  },
  {
   "cell_type": "code",
   "execution_count": null,
   "id": "ccc9fa04",
   "metadata": {
    "vscode": {
     "languageId": "plaintext"
    }
   },
   "outputs": [],
   "source": [
    "using EffectiveTMatrix\n",
    "# 2D acoustic problem\n",
    "dimension=2;                               \n",
    "host_medium = Acoustic(dimension; ρ=1.0, c=1.0);"
   ]
  },
  {
   "cell_type": "markdown",
   "id": "e502ee65",
   "metadata": {},
   "source": [
    "We consider a random particulate cylinder made of sound hard particles of radius 1.0. We also need to choose the volume fraction (density of particles). These information are stored in sp_MC:"
   ]
  },
  {
   "cell_type": "code",
   "execution_count": null,
   "id": "65301c7b",
   "metadata": {
    "vscode": {
     "languageId": "plaintext"
    }
   },
   "outputs": [],
   "source": [
    "## particulate microstructure of the effective cylinder\n",
    "particle = Particle(Acoustic(dimension; ρ=Inf, c=Inf),Circle(1.0)); # sound hard particles of radius 1.0 \n",
    "sp_MC = Specie(particle; volume_fraction = .4) "
   ]
  },
  {
   "cell_type": "markdown",
   "id": "c2edd8ff",
   "metadata": {},
   "source": [
    "Finally, the cylinder is defined by it's radius and microstructure, ie an homogeneous material with the particles previously defined. For now, the homogeneous material has to be the same as the one of the host material:"
   ]
  },
  {
   "cell_type": "code",
   "execution_count": null,
   "id": "fe19461f",
   "metadata": {
    "vscode": {
     "languageId": "plaintext"
    }
   },
   "outputs": [],
   "source": [
    "## define the effective cylinder\n",
    "cylinder_radius = 20.0;\n",
    "microstructure = Microstructure(host_medium,[sp_MC]);\n",
    "cylinder = Material(Circle(cylinder_radius),microstructure);"
   ]
  },
  {
   "cell_type": "markdown",
   "id": "51ed8bc1",
   "metadata": {
    "vscode": {
     "languageId": "plaintext"
    }
   },
   "source": [
    "To compute the coefficients $\\mathrm T_n$ of the effective T-matrix, we need to specify the frequency $\\omega$ and the number of coefficients to compute:"
   ]
  },
  {
   "cell_type": "code",
   "execution_count": null,
   "id": "61776bba",
   "metadata": {
    "vscode": {
     "languageId": "plaintext"
    }
   },
   "outputs": [],
   "source": [
    "## compute the coefficients of the T-matrix \n",
    "ω = .2; # frequency\n",
    "N = 5;  # Tₙ for n ∈ [-N,N]\n",
    "T = t_matrix(ω, host_medium, cylinder, basis_field_order=N);"
   ]
  },
  {
   "cell_type": "markdown",
   "id": "4a2316ad",
   "metadata": {},
   "source": [
    "<p align=\"center\">\n",
    "    <img\n",
    "    src=\"T-matrix.png\"\n",
    "    alt=\"Alt text\"\n",
    "    title=\"\"\n",
    "    style=\"display: inline-block; margin: 0 auto; max-width: 200px\">\n",
    "</p>"
   ]
  },
  {
   "cell_type": "markdown",
   "id": "c9c7a216",
   "metadata": {},
   "source": [
    "The computation of the T-matrix uses the Effective Waves Method and is relatively fast. In Example 2 below, we show how to validate these results with Monte Carlo simulations. \n",
    "\n",
    "Once these coefficients are computed, the scattering from any incident field can be computed by using the decomposition (Eq. 2) of the incident field and formula (Eq. 3) for the scattered field. Note that the T-matrix does not depend on the incident field. Below is an example for computing the average pressure field resulting from an incident plane wave and a point source"
   ]
  },
  {
   "cell_type": "code",
   "execution_count": null,
   "id": "2421ce9e",
   "metadata": {
    "vscode": {
     "languageId": "plaintext"
    }
   },
   "outputs": [],
   "source": [
    "## Define incident planar wave and point source\n",
    "# define the plane wave\n",
    "plane_wave = plane_source(host_medium; direction = [1.0,0.0]);\n",
    "\n",
    "# define the point source\n",
    "x0 = [-4.5cylinder_radius,0.0];                    # origin of the point source\n",
    "A = 1.0;                                           # amplitude of the point source\n",
    "point_wave = point_source(host_medium, x0, A);"
   ]
  },
  {
   "cell_type": "markdown",
   "id": "ee2c9ac2",
   "metadata": {
    "vscode": {
     "languageId": "plaintext"
    }
   },
   "source": [
    "We then define a region where to compute the pressure field:"
   ]
  },
  {
   "cell_type": "code",
   "execution_count": null,
   "id": "3d905fe7",
   "metadata": {
    "vscode": {
     "languageId": "plaintext"
    }
   },
   "outputs": [],
   "source": [
    "# Define the incident plane wave\n",
    "psource = plane_source(host_medium; direction = [1.0,0.0]);\n",
    "\n",
    "# Define box where to compute the average scattered field \n",
    "P=Q=4*cylinder_radius;                   # bounding box size\n",
    "bottomleft = [-P;-Q]; topright = [P;Q];\n",
    "region = Box([bottomleft, topright]);    # bounding box"
   ]
  },
  {
   "cell_type": "markdown",
   "id": "e3e70418",
   "metadata": {},
   "source": [
    "Finally the field is computed and plot with"
   ]
  },
  {
   "cell_type": "code",
   "execution_count": null,
   "id": "851890b2",
   "metadata": {
    "vscode": {
     "languageId": "plaintext"
    }
   },
   "outputs": [],
   "source": [
    "using Plots\n",
    "\n",
    "## scattering from incident plane wave\n",
    "us_plane_wave = average_scattered_field(ω, region, plane_wave, cylinder; basis_field_order=N);\n",
    "plot(us_plane_wave, ω; field_apply=real,seriestype = :contour,c=:balance) \n",
    "plot!(title=\"Scattering from incident plave wave\")\n",
    "\n",
    "## scattering from point source\n",
    "us_point_source = average_scattered_field(ω, region, point_wave, cylinder; basis_field_order=N);\n",
    "plot(us_point_source,ω; field_apply=real,seriestype = :contour,c=:balance) \n",
    "plot!(title=\"Scattering from incident point source\")"
   ]
  },
  {
   "cell_type": "markdown",
   "id": "84780767",
   "metadata": {
    "vscode": {
     "languageId": "plaintext"
    }
   },
   "source": [
    "<p align=\"center\">\n",
    "  <img src=\"plane_wave_scattering.png\" width=\"400px\" />\n",
    "  <img src=\"point_source_scattering.png\" width=\"400px\" /> \n",
    "</p>"
   ]
  }
 ],
 "metadata": {
  "language_info": {
   "name": "python"
  }
 },
 "nbformat": 4,
 "nbformat_minor": 5
}
